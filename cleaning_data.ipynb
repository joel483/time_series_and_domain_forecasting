{
 "cells": [
  {
   "cell_type": "code",
   "execution_count": 1,
   "metadata": {},
   "outputs": [
    {
     "name": "stderr",
     "output_type": "stream",
     "text": [
      "\n",
      "Attaching package: ‘dplyr’\n",
      "\n",
      "The following objects are masked from ‘package:stats’:\n",
      "\n",
      "    filter, lag\n",
      "\n",
      "The following objects are masked from ‘package:base’:\n",
      "\n",
      "    intersect, setdiff, setequal, union\n",
      "\n",
      "Loading required package: DBI\n",
      "Loading required package: gWidgets\n",
      "\n",
      "Attaching package: ‘gWidgets’\n",
      "\n",
      "The following object is masked from ‘package:dplyr’:\n",
      "\n",
      "    id\n",
      "\n"
     ]
    }
   ],
   "source": [
    "# Import librairies.\n",
    "library(httr)\n",
    "library(rjson)\n",
    "library(dplyr)\n",
    "library(RMySQL)\n",
    "library(dbConnect)\n",
    "library(odbc)"
   ]
  },
  {
   "cell_type": "code",
   "execution_count": 2,
   "metadata": {},
   "outputs": [],
   "source": [
    "# Get credentials from .json.\n",
    "creds <- fromJSON(file=\"./creds.json\")\n",
    "user <- creds[[\"user\"]]\n",
    "password <- creds[[\"password\"]]\n",
    "host <- creds[[\"url\"]]\n",
    "port <- creds[[\"port\"]]\n",
    "dbname <- creds[[\"database\"]]"
   ]
  },
  {
   "cell_type": "code",
   "execution_count": 3,
   "metadata": {},
   "outputs": [],
   "source": [
    "# Connecting to DB.\n",
    "db = dbConnect(RMySQL::MySQL(), dbname=dbname, host=host, port=port, user=user, password=password)"
   ]
  },
  {
   "cell_type": "code",
   "execution_count": 4,
   "metadata": {},
   "outputs": [],
   "source": [
    "# Reading and storing tables.\n",
    "features <- dbReadTable(db, \"features\")\n",
    "sampleSubmission <- dbReadTable(db, \"sampleSubmission\")\n",
    "stores <- dbReadTable(db, \"stores\")\n",
    "test <- dbReadTable(db, \"test\")\n",
    "train <- dbReadTable(db, \"train\")"
   ]
  },
  {
   "cell_type": "code",
   "execution_count": 5,
   "metadata": {},
   "outputs": [
    {
     "data": {
      "text/html": [
       "<table>\n",
       "<thead><tr><th scope=col>index</th><th scope=col>Store</th><th scope=col>Date</th><th scope=col>Temperature</th><th scope=col>Fuel_Price</th><th scope=col>MarkDown1</th><th scope=col>MarkDown2</th><th scope=col>MarkDown3</th><th scope=col>MarkDown4</th><th scope=col>MarkDown5</th><th scope=col>CPI</th><th scope=col>Unemployment</th><th scope=col>IsHoliday</th></tr></thead>\n",
       "<tbody>\n",
       "\t<tr><td>0         </td><td>1         </td><td>2010-02-05</td><td>42.31     </td><td>2.572     </td><td>NA        </td><td>NA        </td><td>NA        </td><td>NA        </td><td>NA        </td><td>211.0964  </td><td>8.106     </td><td>0         </td></tr>\n",
       "\t<tr><td>1         </td><td>1         </td><td>2010-02-12</td><td>38.51     </td><td>2.548     </td><td>NA        </td><td>NA        </td><td>NA        </td><td>NA        </td><td>NA        </td><td>211.2422  </td><td>8.106     </td><td>1         </td></tr>\n",
       "\t<tr><td>2         </td><td>1         </td><td>2010-02-19</td><td>39.93     </td><td>2.514     </td><td>NA        </td><td>NA        </td><td>NA        </td><td>NA        </td><td>NA        </td><td>211.2891  </td><td>8.106     </td><td>0         </td></tr>\n",
       "\t<tr><td>3         </td><td>1         </td><td>2010-02-26</td><td>46.63     </td><td>2.561     </td><td>NA        </td><td>NA        </td><td>NA        </td><td>NA        </td><td>NA        </td><td>211.3196  </td><td>8.106     </td><td>0         </td></tr>\n",
       "\t<tr><td>4         </td><td>1         </td><td>2010-03-05</td><td>46.50     </td><td>2.625     </td><td>NA        </td><td>NA        </td><td>NA        </td><td>NA        </td><td>NA        </td><td>211.3501  </td><td>8.106     </td><td>0         </td></tr>\n",
       "\t<tr><td>5         </td><td>1         </td><td>2010-03-12</td><td>57.79     </td><td>2.667     </td><td>NA        </td><td>NA        </td><td>NA        </td><td>NA        </td><td>NA        </td><td>211.3806  </td><td>8.106     </td><td>0         </td></tr>\n",
       "</tbody>\n",
       "</table>\n"
      ],
      "text/latex": [
       "\\begin{tabular}{r|lllllllllllll}\n",
       " index & Store & Date & Temperature & Fuel\\_Price & MarkDown1 & MarkDown2 & MarkDown3 & MarkDown4 & MarkDown5 & CPI & Unemployment & IsHoliday\\\\\n",
       "\\hline\n",
       "\t 0          & 1          & 2010-02-05 & 42.31      & 2.572      & NA         & NA         & NA         & NA         & NA         & 211.0964   & 8.106      & 0         \\\\\n",
       "\t 1          & 1          & 2010-02-12 & 38.51      & 2.548      & NA         & NA         & NA         & NA         & NA         & 211.2422   & 8.106      & 1         \\\\\n",
       "\t 2          & 1          & 2010-02-19 & 39.93      & 2.514      & NA         & NA         & NA         & NA         & NA         & 211.2891   & 8.106      & 0         \\\\\n",
       "\t 3          & 1          & 2010-02-26 & 46.63      & 2.561      & NA         & NA         & NA         & NA         & NA         & 211.3196   & 8.106      & 0         \\\\\n",
       "\t 4          & 1          & 2010-03-05 & 46.50      & 2.625      & NA         & NA         & NA         & NA         & NA         & 211.3501   & 8.106      & 0         \\\\\n",
       "\t 5          & 1          & 2010-03-12 & 57.79      & 2.667      & NA         & NA         & NA         & NA         & NA         & 211.3806   & 8.106      & 0         \\\\\n",
       "\\end{tabular}\n"
      ],
      "text/markdown": [
       "\n",
       "| index | Store | Date | Temperature | Fuel_Price | MarkDown1 | MarkDown2 | MarkDown3 | MarkDown4 | MarkDown5 | CPI | Unemployment | IsHoliday |\n",
       "|---|---|---|---|---|---|---|---|---|---|---|---|---|\n",
       "| 0          | 1          | 2010-02-05 | 42.31      | 2.572      | NA         | NA         | NA         | NA         | NA         | 211.0964   | 8.106      | 0          |\n",
       "| 1          | 1          | 2010-02-12 | 38.51      | 2.548      | NA         | NA         | NA         | NA         | NA         | 211.2422   | 8.106      | 1          |\n",
       "| 2          | 1          | 2010-02-19 | 39.93      | 2.514      | NA         | NA         | NA         | NA         | NA         | 211.2891   | 8.106      | 0          |\n",
       "| 3          | 1          | 2010-02-26 | 46.63      | 2.561      | NA         | NA         | NA         | NA         | NA         | 211.3196   | 8.106      | 0          |\n",
       "| 4          | 1          | 2010-03-05 | 46.50      | 2.625      | NA         | NA         | NA         | NA         | NA         | 211.3501   | 8.106      | 0          |\n",
       "| 5          | 1          | 2010-03-12 | 57.79      | 2.667      | NA         | NA         | NA         | NA         | NA         | 211.3806   | 8.106      | 0          |\n",
       "\n"
      ],
      "text/plain": [
       "  index Store Date       Temperature Fuel_Price MarkDown1 MarkDown2 MarkDown3\n",
       "1 0     1     2010-02-05 42.31       2.572      NA        NA        NA       \n",
       "2 1     1     2010-02-12 38.51       2.548      NA        NA        NA       \n",
       "3 2     1     2010-02-19 39.93       2.514      NA        NA        NA       \n",
       "4 3     1     2010-02-26 46.63       2.561      NA        NA        NA       \n",
       "5 4     1     2010-03-05 46.50       2.625      NA        NA        NA       \n",
       "6 5     1     2010-03-12 57.79       2.667      NA        NA        NA       \n",
       "  MarkDown4 MarkDown5 CPI      Unemployment IsHoliday\n",
       "1 NA        NA        211.0964 8.106        0        \n",
       "2 NA        NA        211.2422 8.106        1        \n",
       "3 NA        NA        211.2891 8.106        0        \n",
       "4 NA        NA        211.3196 8.106        0        \n",
       "5 NA        NA        211.3501 8.106        0        \n",
       "6 NA        NA        211.3806 8.106        0        "
      ]
     },
     "metadata": {},
     "output_type": "display_data"
    },
    {
     "data": {
      "text/html": [
       "<table>\n",
       "<thead><tr><th scope=col>index</th><th scope=col>Store</th><th scope=col>Dept</th><th scope=col>Date</th><th scope=col>Weekly_Sales</th><th scope=col>IsHoliday</th></tr></thead>\n",
       "<tbody>\n",
       "\t<tr><td>0         </td><td>1         </td><td>1         </td><td>2010-02-05</td><td>24924.50  </td><td>0         </td></tr>\n",
       "\t<tr><td>1         </td><td>1         </td><td>1         </td><td>2010-02-12</td><td>46039.49  </td><td>1         </td></tr>\n",
       "\t<tr><td>2         </td><td>1         </td><td>1         </td><td>2010-02-19</td><td>41595.55  </td><td>0         </td></tr>\n",
       "\t<tr><td>3         </td><td>1         </td><td>1         </td><td>2010-02-26</td><td>19403.54  </td><td>0         </td></tr>\n",
       "\t<tr><td>4         </td><td>1         </td><td>1         </td><td>2010-03-05</td><td>21827.90  </td><td>0         </td></tr>\n",
       "\t<tr><td>5         </td><td>1         </td><td>1         </td><td>2010-03-12</td><td>21043.39  </td><td>0         </td></tr>\n",
       "</tbody>\n",
       "</table>\n"
      ],
      "text/latex": [
       "\\begin{tabular}{r|llllll}\n",
       " index & Store & Dept & Date & Weekly\\_Sales & IsHoliday\\\\\n",
       "\\hline\n",
       "\t 0          & 1          & 1          & 2010-02-05 & 24924.50   & 0         \\\\\n",
       "\t 1          & 1          & 1          & 2010-02-12 & 46039.49   & 1         \\\\\n",
       "\t 2          & 1          & 1          & 2010-02-19 & 41595.55   & 0         \\\\\n",
       "\t 3          & 1          & 1          & 2010-02-26 & 19403.54   & 0         \\\\\n",
       "\t 4          & 1          & 1          & 2010-03-05 & 21827.90   & 0         \\\\\n",
       "\t 5          & 1          & 1          & 2010-03-12 & 21043.39   & 0         \\\\\n",
       "\\end{tabular}\n"
      ],
      "text/markdown": [
       "\n",
       "| index | Store | Dept | Date | Weekly_Sales | IsHoliday |\n",
       "|---|---|---|---|---|---|\n",
       "| 0          | 1          | 1          | 2010-02-05 | 24924.50   | 0          |\n",
       "| 1          | 1          | 1          | 2010-02-12 | 46039.49   | 1          |\n",
       "| 2          | 1          | 1          | 2010-02-19 | 41595.55   | 0          |\n",
       "| 3          | 1          | 1          | 2010-02-26 | 19403.54   | 0          |\n",
       "| 4          | 1          | 1          | 2010-03-05 | 21827.90   | 0          |\n",
       "| 5          | 1          | 1          | 2010-03-12 | 21043.39   | 0          |\n",
       "\n"
      ],
      "text/plain": [
       "  index Store Dept Date       Weekly_Sales IsHoliday\n",
       "1 0     1     1    2010-02-05 24924.50     0        \n",
       "2 1     1     1    2010-02-12 46039.49     1        \n",
       "3 2     1     1    2010-02-19 41595.55     0        \n",
       "4 3     1     1    2010-02-26 19403.54     0        \n",
       "5 4     1     1    2010-03-05 21827.90     0        \n",
       "6 5     1     1    2010-03-12 21043.39     0        "
      ]
     },
     "metadata": {},
     "output_type": "display_data"
    },
    {
     "data": {
      "text/html": [
       "<table>\n",
       "<thead><tr><th scope=col>index</th><th scope=col>Store</th><th scope=col>Type</th><th scope=col>Size</th></tr></thead>\n",
       "<tbody>\n",
       "\t<tr><td>0     </td><td>1     </td><td>A     </td><td>151315</td></tr>\n",
       "\t<tr><td>1     </td><td>2     </td><td>A     </td><td>202307</td></tr>\n",
       "\t<tr><td>2     </td><td>3     </td><td>B     </td><td> 37392</td></tr>\n",
       "\t<tr><td>3     </td><td>4     </td><td>A     </td><td>205863</td></tr>\n",
       "\t<tr><td>4     </td><td>5     </td><td>B     </td><td> 34875</td></tr>\n",
       "\t<tr><td>5     </td><td>6     </td><td>A     </td><td>202505</td></tr>\n",
       "</tbody>\n",
       "</table>\n"
      ],
      "text/latex": [
       "\\begin{tabular}{r|llll}\n",
       " index & Store & Type & Size\\\\\n",
       "\\hline\n",
       "\t 0      & 1      & A      & 151315\\\\\n",
       "\t 1      & 2      & A      & 202307\\\\\n",
       "\t 2      & 3      & B      &  37392\\\\\n",
       "\t 3      & 4      & A      & 205863\\\\\n",
       "\t 4      & 5      & B      &  34875\\\\\n",
       "\t 5      & 6      & A      & 202505\\\\\n",
       "\\end{tabular}\n"
      ],
      "text/markdown": [
       "\n",
       "| index | Store | Type | Size |\n",
       "|---|---|---|---|\n",
       "| 0      | 1      | A      | 151315 |\n",
       "| 1      | 2      | A      | 202307 |\n",
       "| 2      | 3      | B      |  37392 |\n",
       "| 3      | 4      | A      | 205863 |\n",
       "| 4      | 5      | B      |  34875 |\n",
       "| 5      | 6      | A      | 202505 |\n",
       "\n"
      ],
      "text/plain": [
       "  index Store Type Size  \n",
       "1 0     1     A    151315\n",
       "2 1     2     A    202307\n",
       "3 2     3     B     37392\n",
       "4 3     4     A    205863\n",
       "5 4     5     B     34875\n",
       "6 5     6     A    202505"
      ]
     },
     "metadata": {},
     "output_type": "display_data"
    }
   ],
   "source": [
    "head(features)\n",
    "head(train)\n",
    "head(stores)"
   ]
  },
  {
   "cell_type": "code",
   "execution_count": 6,
   "metadata": {},
   "outputs": [],
   "source": [
    "# Joining train tables\n",
    "all_tables_train <- inner_join(train, features, by=c(\"Store\", \"Date\", \"IsHoliday\"))\n",
    "all_tables_train <- inner_join(all_tables_train, stores, by=\"Store\")\n",
    "\n",
    "# # Joining test tables\n",
    "all_tables_test <- inner_join(test, features, by=c(\"Store\", \"Date\", \"IsHoliday\"))\n",
    "all_tables_test <- inner_join(all_tables_train, stores, by=\"Store\")\n",
    "\n",
    "write.csv(all_tables_train, \"~/Documents/walmart/all_data_train.json\")\n",
    "write.csv(all_tables_test, \"~/Documents/walmart/all_data_test.json\")"
   ]
  },
  {
   "cell_type": "markdown",
   "metadata": {},
   "source": [
    "## Cleaning the training data"
   ]
  },
  {
   "cell_type": "code",
   "execution_count": 7,
   "metadata": {},
   "outputs": [
    {
     "name": "stdout",
     "output_type": "stream",
     "text": [
      "'data.frame':\t421570 obs. of  19 variables:\n",
      " $ index.x     : num  0 1 2 3 4 5 6 7 8 9 ...\n",
      " $ Store       : num  1 1 1 1 1 1 1 1 1 1 ...\n",
      " $ Dept        : num  1 1 1 1 1 1 1 1 1 1 ...\n",
      " $ Date        : chr  \"2010-02-05\" \"2010-02-12\" \"2010-02-19\" \"2010-02-26\" ...\n",
      " $ Weekly_Sales: num  24924 46039 41596 19404 21828 ...\n",
      " $ IsHoliday   : int  0 1 0 0 0 0 0 0 0 0 ...\n",
      " $ index.y     : num  0 1 2 3 4 5 6 7 8 9 ...\n",
      " $ Temperature : num  42.3 38.5 39.9 46.6 46.5 ...\n",
      " $ Fuel_Price  : num  2.57 2.55 2.51 2.56 2.62 ...\n",
      " $ MarkDown1   : num  NA NA NA NA NA NA NA NA NA NA ...\n",
      " $ MarkDown2   : num  NA NA NA NA NA NA NA NA NA NA ...\n",
      " $ MarkDown3   : num  NA NA NA NA NA NA NA NA NA NA ...\n",
      " $ MarkDown4   : num  NA NA NA NA NA NA NA NA NA NA ...\n",
      " $ MarkDown5   : num  NA NA NA NA NA NA NA NA NA NA ...\n",
      " $ CPI         : num  211 211 211 211 211 ...\n",
      " $ Unemployment: num  8.11 8.11 8.11 8.11 8.11 ...\n",
      " $ index       : num  0 0 0 0 0 0 0 0 0 0 ...\n",
      " $ Type        : chr  \"A\" \"A\" \"A\" \"A\" ...\n",
      " $ Size        : num  151315 151315 151315 151315 151315 ...\n"
     ]
    }
   ],
   "source": [
    "str(all_tables_train)"
   ]
  },
  {
   "cell_type": "code",
   "execution_count": 8,
   "metadata": {},
   "outputs": [],
   "source": [
    "all_tables_train$Weekly_Sales<- ifelse(is.na(all_tables_train$Weekly_Sales), mean(all_tables_train$Weekly_Sales, na.rm=TRUE), all_tables_train$Weekly_Sales)\n",
    "all_tables_train$IsHoliday<- ifelse(is.na(all_tables_train$IsHoliday), mean(all_tables_train$IsHoliday, na.rm=TRUE), all_tables_train$IsHoliday)\n",
    "all_tables_train$Temperature <- ifelse(is.na(all_tables_train$Temperature), mean(all_tables_train$Temperature, na.rm=TRUE), all_tables_train$Temperature)\n",
    "all_tables_train$Fuel_Price <- ifelse(is.na(all_tables_train$Fuel_Price), mean(all_tables_train$Fuel_Price, na.rm=TRUE), all_tables_train$Fuel_Price)\n",
    "all_tables_train$CPI <- ifelse(is.na(all_tables_train$CPI), mean(all_tables_train$CPI, na.rm=TRUE), all_tables_train$CPI)\n",
    "all_tables_train$Unemployment <- ifelse(is.na(all_tables_train$Unemployment), mean(all_tables_train$Unemployment, na.rm=TRUE), all_tables_train$Unemployment)\n",
    "all_tables_train$Size<- ifelse(is.na(all_tables_train$Size), mean(all_tables_train$Size, na.rm=TRUE), all_tables_train$Size)"
   ]
  },
  {
   "cell_type": "code",
   "execution_count": 9,
   "metadata": {},
   "outputs": [],
   "source": [
    "all_tables_train$MarkDown1 <- ifelse(is.na(all_tables_train$MarkDown1), mean(all_tables_train$MarkDown1, na.rm=TRUE), all_tables_train$MarkDown1)\n",
    "all_tables_train$MarkDown2 <- ifelse(is.na(all_tables_train$MarkDown2), mean(all_tables_train$MarkDown2, na.rm=TRUE), all_tables_train$MarkDown2)\n",
    "all_tables_train$MarkDown3 <- ifelse(is.na(all_tables_train$MarkDown3), mean(all_tables_train$MarkDown3, na.rm=TRUE), all_tables_train$MarkDown3)\n",
    "all_tables_train$MarkDown4 <- ifelse(is.na(all_tables_train$MarkDown4), mean(all_tables_train$MarkDown4, na.rm=TRUE), all_tables_train$MarkDown4)\n",
    "all_tables_train$MarkDown5 <- ifelse(is.na(all_tables_train$MarkDown5), mean(all_tables_train$MarkDown5, na.rm=TRUE), all_tables_train$MarkDown5)"
   ]
  },
  {
   "cell_type": "code",
   "execution_count": 10,
   "metadata": {},
   "outputs": [],
   "source": [
    "cleaned_data <-  subset(all_tables_train, select=-c(index.x,index.y,index))"
   ]
  },
  {
   "cell_type": "code",
   "execution_count": null,
   "metadata": {},
   "outputs": [],
   "source": [
    "write.csv(cleaned_data,\"./clean.csv\")"
   ]
  }
 ],
 "metadata": {
  "kernelspec": {
   "display_name": "R",
   "language": "R",
   "name": "ir"
  },
  "language_info": {
   "codemirror_mode": "r",
   "file_extension": ".r",
   "mimetype": "text/x-r-source",
   "name": "R",
   "pygments_lexer": "r",
   "version": "3.6.1"
  }
 },
 "nbformat": 4,
 "nbformat_minor": 4
}